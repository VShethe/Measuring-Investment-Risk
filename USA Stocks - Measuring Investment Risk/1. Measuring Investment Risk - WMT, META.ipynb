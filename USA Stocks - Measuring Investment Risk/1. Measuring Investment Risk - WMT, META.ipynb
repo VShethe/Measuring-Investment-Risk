{
 "cells": [
  {
   "cell_type": "markdown",
   "id": "402e556d",
   "metadata": {},
   "source": [
    "## Measuring Investment Risk - WMT, META"
   ]
  },
  {
   "cell_type": "markdown",
   "id": "582e0e75",
   "metadata": {},
   "source": [
    "## Calculating Covariance and Correlation"
   ]
  },
  {
   "cell_type": "markdown",
   "id": "05d50d3a",
   "metadata": {},
   "source": [
    "Consider a portfolio composed of *Walmart* and *Facebook*. Do you expect the returns of these companies to show high or low covariance? Or, could you guess what the correlation would be? Will it be closer to 0 or closer to 1? "
   ]
  },
  {
   "cell_type": "markdown",
   "id": "126d627d",
   "metadata": {},
   "source": [
    "Begin by extracting data for Walmart and Facebook from the 1st of January 2018 until today."
   ]
  },
  {
   "cell_type": "code",
   "execution_count": 1,
   "id": "5c273b76",
   "metadata": {},
   "outputs": [],
   "source": [
    "import numpy as np\n",
    "import pandas as pd\n",
    "import matplotlib.pyplot as plt\n",
    "from datetime import datetime\n",
    "from pandas_datareader import data as wb"
   ]
  },
  {
   "cell_type": "code",
   "execution_count": 2,
   "id": "9bebd335",
   "metadata": {},
   "outputs": [],
   "source": [
    "from iexfinance.stocks import Stock, get_historical_data"
   ]
  },
  {
   "cell_type": "code",
   "execution_count": 3,
   "id": "4f393ccd",
   "metadata": {},
   "outputs": [],
   "source": [
    "api_key = 'API_KEY'"
   ]
  },
  {
   "cell_type": "code",
   "execution_count": 4,
   "id": "e3e8481a",
   "metadata": {},
   "outputs": [],
   "source": [
    "start = datetime(2018, 1, 1)\n",
    "end = datetime(2023, 3, 24)"
   ]
  },
  {
   "cell_type": "code",
   "execution_count": 5,
   "id": "2327783e",
   "metadata": {},
   "outputs": [],
   "source": [
    "tickers = ['WMT', 'META']\n",
    "sec_data = pd.DataFrame()\n",
    "for t in tickers:\n",
    "    sec_data[t] = get_historical_data(t, start, end, output_format = 'pandas', token=api_key)['close']"
   ]
  },
  {
   "cell_type": "code",
   "execution_count": 6,
   "id": "6ecf25eb",
   "metadata": {},
   "outputs": [
    {
     "data": {
      "text/html": [
       "<div>\n",
       "<style scoped>\n",
       "    .dataframe tbody tr th:only-of-type {\n",
       "        vertical-align: middle;\n",
       "    }\n",
       "\n",
       "    .dataframe tbody tr th {\n",
       "        vertical-align: top;\n",
       "    }\n",
       "\n",
       "    .dataframe thead th {\n",
       "        text-align: right;\n",
       "    }\n",
       "</style>\n",
       "<table border=\"1\" class=\"dataframe\">\n",
       "  <thead>\n",
       "    <tr style=\"text-align: right;\">\n",
       "      <th></th>\n",
       "      <th>WMT</th>\n",
       "      <th>META</th>\n",
       "    </tr>\n",
       "  </thead>\n",
       "  <tbody>\n",
       "    <tr>\n",
       "      <th>2018-01-02</th>\n",
       "      <td>98.59</td>\n",
       "      <td>181.42</td>\n",
       "    </tr>\n",
       "    <tr>\n",
       "      <th>2018-01-03</th>\n",
       "      <td>99.45</td>\n",
       "      <td>184.67</td>\n",
       "    </tr>\n",
       "    <tr>\n",
       "      <th>2018-01-04</th>\n",
       "      <td>99.54</td>\n",
       "      <td>184.33</td>\n",
       "    </tr>\n",
       "    <tr>\n",
       "      <th>2018-01-05</th>\n",
       "      <td>100.13</td>\n",
       "      <td>186.85</td>\n",
       "    </tr>\n",
       "    <tr>\n",
       "      <th>2018-01-08</th>\n",
       "      <td>101.61</td>\n",
       "      <td>188.28</td>\n",
       "    </tr>\n",
       "    <tr>\n",
       "      <th>...</th>\n",
       "      <td>...</td>\n",
       "      <td>...</td>\n",
       "    </tr>\n",
       "    <tr>\n",
       "      <th>2023-03-20</th>\n",
       "      <td>140.90</td>\n",
       "      <td>197.81</td>\n",
       "    </tr>\n",
       "    <tr>\n",
       "      <th>2023-03-21</th>\n",
       "      <td>140.42</td>\n",
       "      <td>202.16</td>\n",
       "    </tr>\n",
       "    <tr>\n",
       "      <th>2023-03-22</th>\n",
       "      <td>139.52</td>\n",
       "      <td>199.81</td>\n",
       "    </tr>\n",
       "    <tr>\n",
       "      <th>2023-03-23</th>\n",
       "      <td>140.65</td>\n",
       "      <td>204.28</td>\n",
       "    </tr>\n",
       "    <tr>\n",
       "      <th>2023-03-24</th>\n",
       "      <td>141.80</td>\n",
       "      <td>206.01</td>\n",
       "    </tr>\n",
       "  </tbody>\n",
       "</table>\n",
       "<p>1316 rows × 2 columns</p>\n",
       "</div>"
      ],
      "text/plain": [
       "               WMT    META\n",
       "2018-01-02   98.59  181.42\n",
       "2018-01-03   99.45  184.67\n",
       "2018-01-04   99.54  184.33\n",
       "2018-01-05  100.13  186.85\n",
       "2018-01-08  101.61  188.28\n",
       "...            ...     ...\n",
       "2023-03-20  140.90  197.81\n",
       "2023-03-21  140.42  202.16\n",
       "2023-03-22  139.52  199.81\n",
       "2023-03-23  140.65  204.28\n",
       "2023-03-24  141.80  206.01\n",
       "\n",
       "[1316 rows x 2 columns]"
      ]
     },
     "execution_count": 6,
     "metadata": {},
     "output_type": "execute_result"
    }
   ],
   "source": [
    "sec_data = sec_data.astype('float64')\n",
    "sec_data"
   ]
  },
  {
   "cell_type": "code",
   "execution_count": 7,
   "id": "1e7baa09",
   "metadata": {
    "scrolled": true
   },
   "outputs": [
    {
     "data": {
      "text/html": [
       "<div>\n",
       "<style scoped>\n",
       "    .dataframe tbody tr th:only-of-type {\n",
       "        vertical-align: middle;\n",
       "    }\n",
       "\n",
       "    .dataframe tbody tr th {\n",
       "        vertical-align: top;\n",
       "    }\n",
       "\n",
       "    .dataframe thead th {\n",
       "        text-align: right;\n",
       "    }\n",
       "</style>\n",
       "<table border=\"1\" class=\"dataframe\">\n",
       "  <thead>\n",
       "    <tr style=\"text-align: right;\">\n",
       "      <th></th>\n",
       "      <th>WMT</th>\n",
       "      <th>META</th>\n",
       "    </tr>\n",
       "  </thead>\n",
       "  <tbody>\n",
       "    <tr>\n",
       "      <th>2018-01-02</th>\n",
       "      <td>NaN</td>\n",
       "      <td>NaN</td>\n",
       "    </tr>\n",
       "    <tr>\n",
       "      <th>2018-01-03</th>\n",
       "      <td>0.008685</td>\n",
       "      <td>0.017756</td>\n",
       "    </tr>\n",
       "    <tr>\n",
       "      <th>2018-01-04</th>\n",
       "      <td>0.000905</td>\n",
       "      <td>-0.001843</td>\n",
       "    </tr>\n",
       "    <tr>\n",
       "      <th>2018-01-05</th>\n",
       "      <td>0.005910</td>\n",
       "      <td>0.013579</td>\n",
       "    </tr>\n",
       "    <tr>\n",
       "      <th>2018-01-08</th>\n",
       "      <td>0.014673</td>\n",
       "      <td>0.007624</td>\n",
       "    </tr>\n",
       "    <tr>\n",
       "      <th>...</th>\n",
       "      <td>...</td>\n",
       "      <td>...</td>\n",
       "    </tr>\n",
       "    <tr>\n",
       "      <th>2023-03-20</th>\n",
       "      <td>0.010703</td>\n",
       "      <td>0.011184</td>\n",
       "    </tr>\n",
       "    <tr>\n",
       "      <th>2023-03-21</th>\n",
       "      <td>-0.003412</td>\n",
       "      <td>0.021752</td>\n",
       "    </tr>\n",
       "    <tr>\n",
       "      <th>2023-03-22</th>\n",
       "      <td>-0.006430</td>\n",
       "      <td>-0.011693</td>\n",
       "    </tr>\n",
       "    <tr>\n",
       "      <th>2023-03-23</th>\n",
       "      <td>0.008067</td>\n",
       "      <td>0.022125</td>\n",
       "    </tr>\n",
       "    <tr>\n",
       "      <th>2023-03-24</th>\n",
       "      <td>0.008143</td>\n",
       "      <td>0.008433</td>\n",
       "    </tr>\n",
       "  </tbody>\n",
       "</table>\n",
       "<p>1316 rows × 2 columns</p>\n",
       "</div>"
      ],
      "text/plain": [
       "                 WMT      META\n",
       "2018-01-02       NaN       NaN\n",
       "2018-01-03  0.008685  0.017756\n",
       "2018-01-04  0.000905 -0.001843\n",
       "2018-01-05  0.005910  0.013579\n",
       "2018-01-08  0.014673  0.007624\n",
       "...              ...       ...\n",
       "2023-03-20  0.010703  0.011184\n",
       "2023-03-21 -0.003412  0.021752\n",
       "2023-03-22 -0.006430 -0.011693\n",
       "2023-03-23  0.008067  0.022125\n",
       "2023-03-24  0.008143  0.008433\n",
       "\n",
       "[1316 rows x 2 columns]"
      ]
     },
     "execution_count": 7,
     "metadata": {},
     "output_type": "execute_result"
    }
   ],
   "source": [
    "sec_returns = np.log(sec_data / sec_data.shift(1))\n",
    "sec_returns"
   ]
  },
  {
   "cell_type": "code",
   "execution_count": 8,
   "id": "149d4741",
   "metadata": {},
   "outputs": [
    {
     "data": {
      "text/plain": [
       "WMT     0.069097\n",
       "META    0.024165\n",
       "dtype: float64"
      ]
     },
     "execution_count": 8,
     "metadata": {},
     "output_type": "execute_result"
    }
   ],
   "source": [
    "sec_returns[['WMT', 'META']].mean() * 250"
   ]
  },
  {
   "cell_type": "code",
   "execution_count": 9,
   "id": "c4608a00",
   "metadata": {
    "scrolled": false
   },
   "outputs": [
    {
     "data": {
      "text/plain": [
       "WMT     0.231982\n",
       "META    0.448498\n",
       "dtype: float64"
      ]
     },
     "execution_count": 9,
     "metadata": {},
     "output_type": "execute_result"
    }
   ],
   "source": [
    "sec_returns[['WMT', 'META']].std() * 250**0.5"
   ]
  },
  {
   "cell_type": "markdown",
   "id": "c7cc45a6",
   "metadata": {},
   "source": [
    "## Covariance and Correlation"
   ]
  },
  {
   "cell_type": "markdown",
   "id": "a765b9e4",
   "metadata": {},
   "source": [
    "\n",
    "\\begin{eqnarray*}\n",
    "Covariance Matrix: \\  \\   \n",
    "\\Sigma = \\begin{bmatrix}\n",
    "        \\sigma_{1}^2 \\ \\sigma_{12} \\ \\dots \\ \\sigma_{1I} \\\\\n",
    "        \\sigma_{21} \\ \\sigma_{2}^2 \\ \\dots \\ \\sigma_{2I} \\\\\n",
    "        \\vdots \\ \\vdots \\ \\ddots \\ \\vdots \\\\\n",
    "        \\sigma_{I1} \\ \\sigma_{I2} \\ \\dots \\ \\sigma_{I}^2\n",
    "    \\end{bmatrix}\n",
    "\\end{eqnarray*}"
   ]
  },
  {
   "cell_type": "code",
   "execution_count": 10,
   "id": "874273dd",
   "metadata": {
    "scrolled": true
   },
   "outputs": [
    {
     "data": {
      "text/plain": [
       "WMT     0.000215\n",
       "META    0.000805\n",
       "dtype: float64"
      ]
     },
     "execution_count": 10,
     "metadata": {},
     "output_type": "execute_result"
    }
   ],
   "source": [
    "sec_returns[['WMT', 'META']].var()"
   ]
  },
  {
   "cell_type": "code",
   "execution_count": 11,
   "id": "222a9d78",
   "metadata": {
    "scrolled": false
   },
   "outputs": [
    {
     "data": {
      "text/plain": [
       "WMT     0.053816\n",
       "META    0.201150\n",
       "dtype: float64"
      ]
     },
     "execution_count": 11,
     "metadata": {},
     "output_type": "execute_result"
    }
   ],
   "source": [
    "sec_returns[['WMT', 'META']].var() * 250"
   ]
  },
  {
   "cell_type": "markdown",
   "id": "c871da6a",
   "metadata": {},
   "source": [
    "### Covariance matrix:"
   ]
  },
  {
   "cell_type": "code",
   "execution_count": 12,
   "id": "5b230817",
   "metadata": {
    "scrolled": true
   },
   "outputs": [
    {
     "data": {
      "text/html": [
       "<div>\n",
       "<style scoped>\n",
       "    .dataframe tbody tr th:only-of-type {\n",
       "        vertical-align: middle;\n",
       "    }\n",
       "\n",
       "    .dataframe tbody tr th {\n",
       "        vertical-align: top;\n",
       "    }\n",
       "\n",
       "    .dataframe thead th {\n",
       "        text-align: right;\n",
       "    }\n",
       "</style>\n",
       "<table border=\"1\" class=\"dataframe\">\n",
       "  <thead>\n",
       "    <tr style=\"text-align: right;\">\n",
       "      <th></th>\n",
       "      <th>WMT</th>\n",
       "      <th>META</th>\n",
       "    </tr>\n",
       "  </thead>\n",
       "  <tbody>\n",
       "    <tr>\n",
       "      <th>WMT</th>\n",
       "      <td>0.000215</td>\n",
       "      <td>0.000094</td>\n",
       "    </tr>\n",
       "    <tr>\n",
       "      <th>META</th>\n",
       "      <td>0.000094</td>\n",
       "      <td>0.000805</td>\n",
       "    </tr>\n",
       "  </tbody>\n",
       "</table>\n",
       "</div>"
      ],
      "text/plain": [
       "           WMT      META\n",
       "WMT   0.000215  0.000094\n",
       "META  0.000094  0.000805"
      ]
     },
     "execution_count": 12,
     "metadata": {},
     "output_type": "execute_result"
    }
   ],
   "source": [
    "cov_matrix = sec_returns.cov()\n",
    "cov_matrix"
   ]
  },
  {
   "cell_type": "code",
   "execution_count": 13,
   "id": "e9b865da",
   "metadata": {
    "scrolled": true
   },
   "outputs": [
    {
     "data": {
      "text/html": [
       "<div>\n",
       "<style scoped>\n",
       "    .dataframe tbody tr th:only-of-type {\n",
       "        vertical-align: middle;\n",
       "    }\n",
       "\n",
       "    .dataframe tbody tr th {\n",
       "        vertical-align: top;\n",
       "    }\n",
       "\n",
       "    .dataframe thead th {\n",
       "        text-align: right;\n",
       "    }\n",
       "</style>\n",
       "<table border=\"1\" class=\"dataframe\">\n",
       "  <thead>\n",
       "    <tr style=\"text-align: right;\">\n",
       "      <th></th>\n",
       "      <th>WMT</th>\n",
       "      <th>META</th>\n",
       "    </tr>\n",
       "  </thead>\n",
       "  <tbody>\n",
       "    <tr>\n",
       "      <th>WMT</th>\n",
       "      <td>0.053816</td>\n",
       "      <td>0.023473</td>\n",
       "    </tr>\n",
       "    <tr>\n",
       "      <th>META</th>\n",
       "      <td>0.023473</td>\n",
       "      <td>0.201150</td>\n",
       "    </tr>\n",
       "  </tbody>\n",
       "</table>\n",
       "</div>"
      ],
      "text/plain": [
       "           WMT      META\n",
       "WMT   0.053816  0.023473\n",
       "META  0.023473  0.201150"
      ]
     },
     "execution_count": 13,
     "metadata": {},
     "output_type": "execute_result"
    }
   ],
   "source": [
    "cov_matrix = sec_returns.cov()*250\n",
    "cov_matrix"
   ]
  },
  {
   "cell_type": "markdown",
   "id": "6ffbd3d5",
   "metadata": {},
   "source": [
    "### Correlation matrix:"
   ]
  },
  {
   "cell_type": "code",
   "execution_count": 14,
   "id": "148f7e32",
   "metadata": {
    "scrolled": false
   },
   "outputs": [
    {
     "data": {
      "text/html": [
       "<div>\n",
       "<style scoped>\n",
       "    .dataframe tbody tr th:only-of-type {\n",
       "        vertical-align: middle;\n",
       "    }\n",
       "\n",
       "    .dataframe tbody tr th {\n",
       "        vertical-align: top;\n",
       "    }\n",
       "\n",
       "    .dataframe thead th {\n",
       "        text-align: right;\n",
       "    }\n",
       "</style>\n",
       "<table border=\"1\" class=\"dataframe\">\n",
       "  <thead>\n",
       "    <tr style=\"text-align: right;\">\n",
       "      <th></th>\n",
       "      <th>WMT</th>\n",
       "      <th>META</th>\n",
       "    </tr>\n",
       "  </thead>\n",
       "  <tbody>\n",
       "    <tr>\n",
       "      <th>WMT</th>\n",
       "      <td>1.000000</td>\n",
       "      <td>0.225607</td>\n",
       "    </tr>\n",
       "    <tr>\n",
       "      <th>META</th>\n",
       "      <td>0.225607</td>\n",
       "      <td>1.000000</td>\n",
       "    </tr>\n",
       "  </tbody>\n",
       "</table>\n",
       "</div>"
      ],
      "text/plain": [
       "           WMT      META\n",
       "WMT   1.000000  0.225607\n",
       "META  0.225607  1.000000"
      ]
     },
     "execution_count": 14,
     "metadata": {},
     "output_type": "execute_result"
    }
   ],
   "source": [
    "corr_matrix = sec_returns.corr()\n",
    "corr_matrix"
   ]
  },
  {
   "cell_type": "markdown",
   "id": "4987a4a3",
   "metadata": {},
   "source": [
    "## Calculating Portfolio Risk"
   ]
  },
  {
   "cell_type": "markdown",
   "id": "58c95610",
   "metadata": {},
   "source": [
    "Equal weigthing scheme:"
   ]
  },
  {
   "cell_type": "code",
   "execution_count": 16,
   "id": "ff8798aa",
   "metadata": {},
   "outputs": [],
   "source": [
    "weights = np.array([0.65, 0.35])"
   ]
  },
  {
   "cell_type": "markdown",
   "id": "2a4904de",
   "metadata": {},
   "source": [
    "Portfolio Variance:"
   ]
  },
  {
   "cell_type": "code",
   "execution_count": 17,
   "id": "6a898e6d",
   "metadata": {},
   "outputs": [
    {
     "data": {
      "text/plain": [
       "0.05805824606888406"
      ]
     },
     "execution_count": 17,
     "metadata": {},
     "output_type": "execute_result"
    }
   ],
   "source": [
    "portfolio_var = np.dot(weights.T, np.dot(sec_returns.cov()*250,weights))\n",
    "portfolio_var"
   ]
  },
  {
   "cell_type": "markdown",
   "id": "3123cadc",
   "metadata": {},
   "source": [
    "Portfolio Volatility:"
   ]
  },
  {
   "cell_type": "code",
   "execution_count": 18,
   "id": "cbb3baba",
   "metadata": {},
   "outputs": [
    {
     "data": {
      "text/plain": [
       "0.24095278804961784"
      ]
     },
     "execution_count": 18,
     "metadata": {},
     "output_type": "execute_result"
    }
   ],
   "source": [
    "portfolio_vol = np.dot(weights.T, np.dot(sec_returns.cov()*250,weights))**0.5\n",
    "portfolio_vol"
   ]
  },
  {
   "cell_type": "code",
   "execution_count": 19,
   "id": "55d0c492",
   "metadata": {
    "scrolled": true
   },
   "outputs": [
    {
     "name": "stdout",
     "output_type": "stream",
     "text": [
      "24.095%\n"
     ]
    }
   ],
   "source": [
    "print (str(round(portfolio_vol, 5) * 100) + '%')"
   ]
  },
  {
   "cell_type": "markdown",
   "id": "2d526472",
   "metadata": {},
   "source": [
    "### Diversifiable Risk"
   ]
  },
  {
   "cell_type": "code",
   "execution_count": 22,
   "id": "bb357b8e",
   "metadata": {},
   "outputs": [
    {
     "data": {
      "text/plain": [
       "0.05381567647610062"
      ]
     },
     "execution_count": 22,
     "metadata": {},
     "output_type": "execute_result"
    }
   ],
   "source": [
    "WMT_var = sec_returns['WMT'].var()*250\n",
    "WMT_var"
   ]
  },
  {
   "cell_type": "code",
   "execution_count": 23,
   "id": "e1019ff1",
   "metadata": {},
   "outputs": [
    {
     "data": {
      "text/plain": [
       "0.20115041133205586"
      ]
     },
     "execution_count": 23,
     "metadata": {},
     "output_type": "execute_result"
    }
   ],
   "source": [
    "META_var = sec_returns['META'].var()*250\n",
    "META_var"
   ]
  },
  {
   "cell_type": "code",
   "execution_count": 24,
   "id": "f475cc10",
   "metadata": {
    "scrolled": true
   },
   "outputs": [
    {
     "data": {
      "text/plain": [
       "0.010680197369554709"
      ]
     },
     "execution_count": 24,
     "metadata": {},
     "output_type": "execute_result"
    }
   ],
   "source": [
    "dr = portfolio_var - (weights[0]**2 * WMT_var) - (weights[1]**2 * META_var)\n",
    "dr"
   ]
  },
  {
   "cell_type": "code",
   "execution_count": 25,
   "id": "01dcbd41",
   "metadata": {},
   "outputs": [
    {
     "name": "stdout",
     "output_type": "stream",
     "text": [
      "1.068%\n"
     ]
    }
   ],
   "source": [
    "print (str(round(dr*100, 3)) + '%')"
   ]
  },
  {
   "cell_type": "markdown",
   "id": "e0ce0268",
   "metadata": {},
   "source": [
    "### Non Diversifiable"
   ]
  },
  {
   "cell_type": "code",
   "execution_count": 26,
   "id": "845c786f",
   "metadata": {
    "scrolled": true
   },
   "outputs": [
    {
     "data": {
      "text/plain": [
       "0.04737804869932935"
      ]
     },
     "execution_count": 26,
     "metadata": {},
     "output_type": "execute_result"
    }
   ],
   "source": [
    "n_dr_1 = portfolio_var - dr\n",
    "n_dr_1"
   ]
  },
  {
   "cell_type": "code",
   "execution_count": 28,
   "id": "38d72207",
   "metadata": {},
   "outputs": [
    {
     "data": {
      "text/plain": [
       "0.04737804869932935"
      ]
     },
     "execution_count": 28,
     "metadata": {},
     "output_type": "execute_result"
    }
   ],
   "source": [
    "n_dr_2 = (weights[0]**2 * WMT_var) + (weights[1]**2 * META_var)\n",
    "n_dr_2"
   ]
  },
  {
   "cell_type": "code",
   "execution_count": 29,
   "id": "f3318277",
   "metadata": {
    "scrolled": true
   },
   "outputs": [
    {
     "data": {
      "text/plain": [
       "True"
      ]
     },
     "execution_count": 29,
     "metadata": {},
     "output_type": "execute_result"
    }
   ],
   "source": [
    "n_dr_1 == n_dr_2"
   ]
  },
  {
   "cell_type": "code",
   "execution_count": null,
   "id": "18437b1b",
   "metadata": {},
   "outputs": [],
   "source": []
  }
 ],
 "metadata": {
  "kernelspec": {
   "display_name": "Python 3 (ipykernel)",
   "language": "python",
   "name": "python3"
  },
  "language_info": {
   "codemirror_mode": {
    "name": "ipython",
    "version": 3
   },
   "file_extension": ".py",
   "mimetype": "text/x-python",
   "name": "python",
   "nbconvert_exporter": "python",
   "pygments_lexer": "ipython3",
   "version": "3.9.13"
  }
 },
 "nbformat": 4,
 "nbformat_minor": 5
}
